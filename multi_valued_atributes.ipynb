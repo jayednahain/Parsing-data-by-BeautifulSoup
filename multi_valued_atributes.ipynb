{
 "cells": [
  {
   "cell_type": "code",
   "execution_count": 2,
   "metadata": {},
   "outputs": [],
   "source": [
    "from bs4 import BeautifulSoup as bs\n",
    "html = '<h1 id=\"xyz\" class=\"abc 123\">Hhelllow world</h1><span></span><span></span>'"
   ]
  },
  {
   "cell_type": "code",
   "execution_count": 3,
   "metadata": {},
   "outputs": [
    {
     "name": "stdout",
     "output_type": "stream",
     "text": [
      "['abc', '123']\n"
     ]
    }
   ],
   "source": [
    "soup_object = bs(html,'html.parser')\n",
    "tag = soup_object.h1\n",
    "#print(tag.string)\n",
    "print(tag['class'])\n",
    "#this will return multi valued atribute\n",
    "#so its returning a list !"
   ]
  },
  {
   "cell_type": "code",
   "execution_count": null,
   "metadata": {},
   "outputs": [],
   "source": [
    "soup_object = bs(html,'html.parser',multi_valued_attributes=None)\n",
    "tag = soup_object.h1\n",
    "#print(tag.string)\n",
    "print(tag['class'])\n",
    "#it returning single value for using multi_valued_attributes=None"
   ]
  },
  {
   "cell_type": "code",
   "execution_count": 6,
   "metadata": {},
   "outputs": [
    {
     "name": "stdout",
     "output_type": "stream",
     "text": [
      "True\n",
      "False\n"
     ]
    }
   ],
   "source": [
    "for value in tag['class']:\n",
    "    if value == \"abc\":\n",
    "        print(True)\n",
    "    else:\n",
    "        print(False)"
   ]
  },
  {
   "cell_type": "code",
   "execution_count": null,
   "metadata": {},
   "outputs": [],
   "source": []
  }
 ],
 "metadata": {
  "kernelspec": {
   "display_name": "Python 3",
   "language": "python",
   "name": "python3"
  },
  "language_info": {
   "codemirror_mode": {
    "name": "ipython",
    "version": 3
   },
   "file_extension": ".py",
   "mimetype": "text/x-python",
   "name": "python",
   "nbconvert_exporter": "python",
   "pygments_lexer": "ipython3",
   "version": "3.8.5"
  }
 },
 "nbformat": 4,
 "nbformat_minor": 4
}
