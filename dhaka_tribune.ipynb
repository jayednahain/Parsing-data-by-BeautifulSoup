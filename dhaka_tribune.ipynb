{
 "cells": [
  {
   "cell_type": "code",
   "execution_count": 2,
   "metadata": {},
   "outputs": [
    {
     "name": "stdout",
     "output_type": "stream",
     "text": [
      "https://www.dhakatribune.com/articles/latest-news/dhaka || 200\n",
      "105 || \n",
      "Trains, launches also to carry 50% of their seating capacity from Thursday following govt directives...\n",
      "\n",
      "105 || \n",
      "Police have recovered a foreign-made pistol and two bullets, four mobile phones and Tk35,000 in cash...\n",
      "\n",
      "92 || \n",
      "Another has been injured and is undergoing treatment at Dhaka Medical College and Hospital\n",
      "\n",
      "69 || \n",
      "It will take only 30 minutes to travel between Gabtoli and Balirpar\n",
      "\n",
      "85 || \n",
      "Some of the Hefazat-e-Islam leaders said they want to extend the strike till Monday\n",
      "\n",
      "104 || \n",
      " Depending on the availability of passengers, vehicles will also run on inter-district routes, said...\n",
      "\n",
      "83 || \n",
      "Publishers fear they will not be able to recoup investment, let alone make profit\n",
      "\n",
      "80 || \n",
      "Traffic restrictions, anti-Modi visit clash and Covid-19 crisis largely blamed\n",
      "\n",
      "85 || \n",
      "The altercation took place in the Baitul Mukarram area in Dhaka on Friday afternoon\n",
      "\n",
      "71 || \n",
      "Publishers are targeting the Independence Day to boost up their sales\n",
      "\n",
      "105 || \n",
      "Witnesses say the two journalists, who are campus correspondents, were severely beaten by members of...\n",
      "\n",
      "42 || \n",
      "At least 32 demonstrators have been held\n",
      "\n",
      "109 || \n",
      "Upon completion in 2022, both levels of the Hammam Khana, one of three primary structures at the Lalbagh...\n",
      "\n",
      "95 || \n",
      "Along with existing infrastructures – such as flyovers, metro rail, expressway – unplanned...\n",
      "\n",
      "77 || \n",
      "Consumers living Dhaka West heave a sigh of relief as gas restored in parts\n",
      "\n",
      "71 || \n",
      "The app will help police assist victims and also serve as a deterrent\n",
      "\n",
      "48 || \n",
      "Police recover two firearms used in the murder\n",
      "\n",
      "98 || \n",
      "High cost and unplanned infrastructure make digging underground tunnels near impossible, experts\n",
      "\n",
      "102 || \n",
      "The publisher has brought out more books in braille for this year’s fair than the number of stall...\n",
      "\n",
      "106 || \n",
      "Price of water to be adjusted in future in line with proposal for 5% increase, says chairman of Dhaka...\n",
      "\n",
      "62 || \n",
      "The move comes amid rising Covid-19 cases across the country\n",
      "\n",
      "61 || Copyright Ⓒ 2012-2019. 2A Media Limited.\n",
      "All Rights Reserved.\n",
      "50 || 8/C, FR Tower, Panthapath, Dhaka 1207, Bangladesh.\n"
     ]
    }
   ],
   "source": [
    "\n",
    "#news test\n",
    "import requests\n",
    "from bs4 import BeautifulSoup as bs\n",
    "\n",
    "url = 'https://www.dhakatribune.com/articles/latest-news/dhaka'\n",
    "news_response = requests.get(url)\n",
    "html = news_response.text\n",
    "url = news_response.url\n",
    "status = news_response.status_code\n",
    "print(url ,\"||\", status)\n",
    "soup_div = bs(html,'html.parser')\n",
    "filter_by = {\n",
    "    'class':'listing-time'\n",
    "}\n",
    "\n",
    "for tag_Data in soup_div.findAll('p'):\n",
    "    data=tag_Data.string\n",
    "    if len(data) > 30:\n",
    "        print(len(data),\"||\",data)\n",
    "    else:\n",
    "        pass\n",
    "    \n"
   ]
  },
  {
   "cell_type": "code",
   "execution_count": 3,
   "metadata": {},
   "outputs": [
    {
     "name": "stdout",
     "output_type": "stream",
     "text": [
      "https://www.dhakatribune.com/articles/latest-news/dhaka || 200\n"
     ]
    }
   ],
   "source": [
    "\n",
    "#news test\n",
    "import requests\n",
    "from bs4 import BeautifulSoup as bs\n",
    "\n",
    "url = 'https://www.dhakatribune.com/articles/latest-news/dhaka'\n",
    "news_response = requests.get(url)\n",
    "html = news_response.text\n",
    "url = news_response.url\n",
    "status = news_response.status_code\n",
    "print(url ,\"||\", status)\n",
    "soup_div = bs(html,'html.parser')\n",
    "filter_by = {\n",
    "    'class':'news-title'\n",
    "}\n",
    "dates = []\n",
    "title =[]\n",
    "data = []\n",
    "for tag_Data in soup_div.findAll('h4'):\n",
    "    data_sting=tag_Data.string\n",
    "    data.append(data_sting)\n",
    "\n",
    "    #print(len(data),\"||\",data)\n",
    "    \n",
    "        \n",
    "    \n"
   ]
  },
  {
   "cell_type": "code",
   "execution_count": 4,
   "metadata": {},
   "outputs": [
    {
     "name": "stdout",
     "output_type": "stream",
     "text": [
      "one:  \n",
      "Commuters suffer as buses ply at half...\n",
      "\n",
      "two:  Wed, Mar 31 2021 \n",
      "one:  Wed, Mar 31 2021 \n",
      "two:  \n",
      "2 ‘JMB militants’ arrested in\n",
      "\n",
      "one:  \n",
      "2 ‘JMB militants’ arrested in\n",
      "\n",
      "two:  Tue, Mar 30 2021 \n",
      "one:  Tue, Mar 30 2021 \n",
      "two:  \n",
      "Teen murdered by rival gang in...\n",
      "\n",
      "one:  \n",
      "Teen murdered by rival gang in...\n",
      "\n",
      "two:  Tue, Mar 30 2021 \n",
      "one:  Tue, Mar 30 2021 \n",
      "two:  \n",
      "Southern metro rail to carry nearly...\n",
      " \n",
      "one:  \n",
      "Southern metro rail to carry nearly...\n",
      " \n",
      "two:  Mon, Mar 29 2021 \n",
      "one:  Mon, Mar 29 2021 \n",
      "two:  \n",
      "Hefazat hartal: No impact on people’s...\n",
      "\n",
      "one:  \n",
      "Hefazat hartal: No impact on people’s...\n",
      "\n",
      "two:  Sun, Mar 28 2021 \n",
      "one:  Sun, Mar 28 2021 \n",
      "two:  \n",
      "Transport owners to run vehicles in...\n",
      "\n",
      "one:  \n",
      "Transport owners to run vehicles in...\n",
      "\n",
      "two:  Sat, Mar 27 2021 \n",
      "one:  Sat, Mar 27 2021 \n",
      "two:  \n",
      "Book Fair: Children’s zone desolate...\n",
      "\n",
      "one:  \n",
      "Book Fair: Children’s zone desolate...\n",
      "\n",
      "two:  Sat, Mar 27 2021 \n",
      "one:  Sat, Mar 27 2021 \n",
      "two:  \n",
      "Low turnout makes Independence Day dull...\n",
      "\n",
      "one:  \n",
      "Low turnout makes Independence Day dull...\n",
      "\n",
      "two:  Fri, Mar 26 2021 \n",
      "one:  Fri, Mar 26 2021 \n",
      "two:  \n",
      "Journos among 50 injured in Baitul Mukarram...\n",
      "\n",
      "one:  \n",
      "Journos among 50 injured in Baitul Mukarram...\n",
      "\n",
      "two:  Fri, Mar 26 2021 \n",
      "one:  Fri, Mar 26 2021 \n",
      "two:  \n",
      "Book fair to see more visitors on Independence...\n",
      "\n",
      "one:  \n",
      "Book fair to see more visitors on Independence...\n",
      "\n",
      "two:  Fri, Mar 26 2021 \n",
      "one:  Fri, Mar 26 2021 \n",
      "two:  \n",
      "Journos, leftist activists injured in...\n",
      "\n",
      "one:  \n",
      "Journos, leftist activists injured in...\n",
      "\n",
      "two:  Thu, Mar 25 2021 \n",
      "one:  Thu, Mar 25 2021 \n",
      "two:  \n",
      " Police, protesters clash over Modi’s...\n",
      "\n",
      "one:  \n",
      " Police, protesters clash over Modi’s...\n",
      "\n",
      "two:  Thu, Mar 25 2021 \n",
      "one:  Thu, Mar 25 2021 \n",
      "two:  \n",
      "Lalbagh Fort cultural preservation project...\n",
      "\n",
      "one:  \n",
      "Lalbagh Fort cultural preservation project...\n",
      "\n",
      "two:  Thu, Mar 25 2021 \n",
      "one:  Thu, Mar 25 2021 \n",
      "two:  \n",
      "Subway to be constructed despite...\n",
      "\n",
      "one:  \n",
      "Subway to be constructed despite...\n",
      "\n",
      "two:  Wed, Mar 24 2021 \n",
      "one:  Wed, Mar 24 2021 \n",
      "two:  \n",
      "Gas pipeline repaired, supply to be...\n",
      "\n",
      "one:  \n",
      "Gas pipeline repaired, supply to be...\n",
      "\n",
      "two:  Wed, Mar 24 2021 \n",
      "one:  Wed, Mar 24 2021 \n",
      "two:  \n",
      "DMP to launch Eagle app to combat sexual...\n",
      "\n",
      "one:  \n",
      "DMP to launch Eagle app to combat sexual...\n",
      "\n",
      "two:  Wed, Mar 24 2021 \n",
      "one:  Wed, Mar 24 2021 \n",
      "two:  \n",
      "Man gunned down in Dhaka, 6...\n",
      "\n",
      "one:  \n",
      "Man gunned down in Dhaka, 6...\n",
      "\n",
      "two:  Wed, Mar 24 2021 \n",
      "one:  Wed, Mar 24 2021 \n",
      "two:  \n",
      "Is a subway system right for\n",
      "\n",
      "one:  \n",
      "Is a subway system right for\n",
      "\n",
      "two:  Tue, Mar 23 2021 \n",
      "one:  Tue, Mar 23 2021 \n",
      "two:  \n",
      "Braille publishing house struggles to...\n",
      "\n",
      "one:  \n",
      "Braille publishing house struggles to...\n",
      "\n",
      "two:  Tue, Mar 23 2021 \n",
      "one:  Tue, Mar 23 2021 \n",
      "two:  \n",
      "‘No hike in water tariff amid rising...\n",
      "\n",
      "one:  \n",
      "‘No hike in water tariff amid rising...\n",
      "\n",
      "two:  Tue, Mar 23 2021 \n",
      "one:  Tue, Mar 23 2021 \n",
      "two:  \n",
      "5 hospitals assigned to tackle surge...\n",
      "\n",
      "one:  \n",
      "5 hospitals assigned to tackle surge...\n",
      "\n",
      "two:  Tue, Mar 23 2021 \n",
      "one:  Tue, Mar 23 2021 \n"
     ]
    },
    {
     "ename": "IndexError",
     "evalue": "list index out of range",
     "output_type": "error",
     "traceback": [
      "\u001b[1;31m---------------------------------------------------------------------------\u001b[0m",
      "\u001b[1;31mIndexError\u001b[0m                                Traceback (most recent call last)",
      "\u001b[1;32m<ipython-input-4-35f4e548daf3>\u001b[0m in \u001b[0;36m<module>\u001b[1;34m\u001b[0m\n\u001b[0;32m      4\u001b[0m \u001b[1;32mfor\u001b[0m \u001b[0mi\u001b[0m \u001b[1;32min\u001b[0m \u001b[0mrange\u001b[0m\u001b[1;33m(\u001b[0m\u001b[0mdata_len\u001b[0m\u001b[1;33m)\u001b[0m\u001b[1;33m:\u001b[0m\u001b[1;33m\u001b[0m\u001b[1;33m\u001b[0m\u001b[0m\n\u001b[0;32m      5\u001b[0m     \u001b[0mprint\u001b[0m\u001b[1;33m(\u001b[0m\u001b[1;34m\"one: \"\u001b[0m\u001b[1;33m,\u001b[0m\u001b[0mdata\u001b[0m\u001b[1;33m[\u001b[0m\u001b[0mi\u001b[0m\u001b[1;33m]\u001b[0m\u001b[1;33m)\u001b[0m\u001b[1;33m\u001b[0m\u001b[1;33m\u001b[0m\u001b[0m\n\u001b[1;32m----> 6\u001b[1;33m     \u001b[0mprint\u001b[0m\u001b[1;33m(\u001b[0m\u001b[1;34m\"two: \"\u001b[0m\u001b[1;33m,\u001b[0m\u001b[0mdata\u001b[0m\u001b[1;33m[\u001b[0m\u001b[0mi\u001b[0m\u001b[1;33m+\u001b[0m\u001b[1;36m1\u001b[0m\u001b[1;33m]\u001b[0m\u001b[1;33m)\u001b[0m\u001b[1;33m\u001b[0m\u001b[1;33m\u001b[0m\u001b[0m\n\u001b[0m\u001b[0;32m      7\u001b[0m     \u001b[1;31m#print(\"three: \",data[i+2])\u001b[0m\u001b[1;33m\u001b[0m\u001b[1;33m\u001b[0m\u001b[1;33m\u001b[0m\u001b[0m\n\u001b[0;32m      8\u001b[0m \u001b[1;33m\u001b[0m\u001b[0m\n",
      "\u001b[1;31mIndexError\u001b[0m: list index out of range"
     ]
    }
   ],
   "source": [
    "data_len = len(data)\n",
    "#print(data_len)\n",
    "\n",
    "for i in range(data_len):\n",
    "    print(\"one: \",data[i])\n",
    "    print(\"two: \",data[i+1])\n",
    "    #print(\"three: \",data[i+2])\n",
    "    \n",
    "data "
   ]
  },
  {
   "cell_type": "code",
   "execution_count": 5,
   "metadata": {},
   "outputs": [
    {
     "data": {
      "text/plain": [
       "'\\nCommuters suffer as buses ply at half...\\n'"
      ]
     },
     "execution_count": 5,
     "metadata": {},
     "output_type": "execute_result"
    }
   ],
   "source": [
    "data[0]"
   ]
  },
  {
   "cell_type": "code",
   "execution_count": 6,
   "metadata": {},
   "outputs": [
    {
     "name": "stdout",
     "output_type": "stream",
     "text": [
      "['Commuters suffer as buses ply at half...', 'Wed, Mar 31 2021 ', '2 ‘JMB militants’ arrested in', 'Tue, Mar 30 2021 ', 'Teen murdered by rival gang in...', 'Tue, Mar 30 2021 ', 'Southern metro rail to carry nearly... ', 'Mon, Mar 29 2021 ', 'Hefazat hartal: No impact on people’s...', 'Sun, Mar 28 2021 ', 'Transport owners to run vehicles in...', 'Sat, Mar 27 2021 ', 'Book Fair: Children’s zone desolate...', 'Sat, Mar 27 2021 ', 'Low turnout makes Independence Day dull...', 'Fri, Mar 26 2021 ', 'Journos among 50 injured in Baitul Mukarram...', 'Fri, Mar 26 2021 ', 'Book fair to see more visitors on Independence...', 'Fri, Mar 26 2021 ', 'Journos, leftist activists injured in...', 'Thu, Mar 25 2021 ', ' Police, protesters clash over Modi’s...', 'Thu, Mar 25 2021 ', 'Lalbagh Fort cultural preservation project...', 'Thu, Mar 25 2021 ', 'Subway to be constructed despite...', 'Wed, Mar 24 2021 ', 'Gas pipeline repaired, supply to be...', 'Wed, Mar 24 2021 ', 'DMP to launch Eagle app to combat sexual...', 'Wed, Mar 24 2021 ', 'Man gunned down in Dhaka, 6...', 'Wed, Mar 24 2021 ', 'Is a subway system right for', 'Tue, Mar 23 2021 ', 'Braille publishing house struggles to...', 'Tue, Mar 23 2021 ', '‘No hike in water tariff amid rising...', 'Tue, Mar 23 2021 ', '5 hospitals assigned to tackle surge...', 'Tue, Mar 23 2021 ']\n"
     ]
    }
   ],
   "source": [
    "new_data= []\n",
    "for val in data:\n",
    "    new_dal = val.replace('\\n','')\n",
    "    new_data.append(new_dal)\n",
    "print(new_data)"
   ]
  },
  {
   "cell_type": "code",
   "execution_count": 9,
   "metadata": {},
   "outputs": [
    {
     "data": {
      "text/plain": [
       "42"
      ]
     },
     "execution_count": 9,
     "metadata": {},
     "output_type": "execute_result"
    }
   ],
   "source": [
    "data_len=len(new_data)\n",
    "data_len"
   ]
  },
  {
   "cell_type": "code",
   "execution_count": 17,
   "metadata": {},
   "outputs": [
    {
     "ename": "IndexError",
     "evalue": "list index out of range",
     "output_type": "error",
     "traceback": [
      "\u001b[1;31m---------------------------------------------------------------------------\u001b[0m",
      "\u001b[1;31mIndexError\u001b[0m                                Traceback (most recent call last)",
      "\u001b[1;32m<ipython-input-17-44832c8230c9>\u001b[0m in \u001b[0;36m<module>\u001b[1;34m\u001b[0m\n\u001b[0;32m      3\u001b[0m \u001b[1;32mfor\u001b[0m \u001b[0mi\u001b[0m \u001b[1;32min\u001b[0m \u001b[0mrange\u001b[0m\u001b[1;33m(\u001b[0m\u001b[1;36m0\u001b[0m\u001b[1;33m,\u001b[0m\u001b[1;36m42\u001b[0m\u001b[1;33m)\u001b[0m\u001b[1;33m:\u001b[0m\u001b[1;33m\u001b[0m\u001b[1;33m\u001b[0m\u001b[0m\n\u001b[0;32m      4\u001b[0m     \u001b[0mtitle\u001b[0m\u001b[1;33m.\u001b[0m\u001b[0mappend\u001b[0m\u001b[1;33m(\u001b[0m\u001b[0mnew_data\u001b[0m\u001b[1;33m[\u001b[0m\u001b[0mi\u001b[0m\u001b[1;33m]\u001b[0m\u001b[1;33m)\u001b[0m\u001b[1;33m\u001b[0m\u001b[1;33m\u001b[0m\u001b[0m\n\u001b[1;32m----> 5\u001b[1;33m     \u001b[0mdata\u001b[0m\u001b[1;33m.\u001b[0m\u001b[0mappend\u001b[0m\u001b[1;33m(\u001b[0m\u001b[0mnew_data\u001b[0m\u001b[1;33m[\u001b[0m\u001b[0mi\u001b[0m\u001b[1;33m+\u001b[0m\u001b[1;36m1\u001b[0m\u001b[1;33m]\u001b[0m\u001b[1;33m)\u001b[0m\u001b[1;33m\u001b[0m\u001b[1;33m\u001b[0m\u001b[0m\n\u001b[0m\u001b[0;32m      6\u001b[0m \u001b[1;33m\u001b[0m\u001b[0m\n\u001b[0;32m      7\u001b[0m     \u001b[1;31m#val(new_data[i]),data.append(new_data[i+1])\u001b[0m\u001b[1;33m\u001b[0m\u001b[1;33m\u001b[0m\u001b[1;33m\u001b[0m\u001b[0m\n",
      "\u001b[1;31mIndexError\u001b[0m: list index out of range"
     ]
    }
   ],
   "source": [
    "title = []\n",
    "date = []\n",
    "for i in range(0,42):\n",
    "    title.append(new_data[i])\n",
    "    data.append(new_data[i+1])\n",
    "   \n",
    "    #val(new_data[i]),data.append(new_data[i+1])\n",
    "    "
   ]
  },
  {
   "cell_type": "code",
   "execution_count": 21,
   "metadata": {},
   "outputs": [
    {
     "ename": "ValueError",
     "evalue": "1 is not in list",
     "output_type": "error",
     "traceback": [
      "\u001b[1;31m---------------------------------------------------------------------------\u001b[0m",
      "\u001b[1;31mValueError\u001b[0m                                Traceback (most recent call last)",
      "\u001b[1;32m<ipython-input-21-859fe06370bb>\u001b[0m in \u001b[0;36m<module>\u001b[1;34m\u001b[0m\n\u001b[1;32m----> 1\u001b[1;33m \u001b[0mlist\u001b[0m\u001b[1;33m.\u001b[0m\u001b[0mindex\u001b[0m\u001b[1;33m(\u001b[0m\u001b[0mnew_data\u001b[0m\u001b[1;33m,\u001b[0m\u001b[1;36m1\u001b[0m\u001b[1;33m)\u001b[0m\u001b[1;33m\u001b[0m\u001b[1;33m\u001b[0m\u001b[0m\n\u001b[0m",
      "\u001b[1;31mValueError\u001b[0m: 1 is not in list"
     ]
    }
   ],
   "source": [
    "list.index(new_data,1)"
   ]
  },
  {
   "cell_type": "code",
   "execution_count": null,
   "metadata": {},
   "outputs": [],
   "source": [
    "new_data.split"
   ]
  }
 ],
 "metadata": {
  "kernelspec": {
   "display_name": "Python 3",
   "language": "python",
   "name": "python3"
  },
  "language_info": {
   "codemirror_mode": {
    "name": "ipython",
    "version": 3
   },
   "file_extension": ".py",
   "mimetype": "text/x-python",
   "name": "python",
   "nbconvert_exporter": "python",
   "pygments_lexer": "ipython3",
   "version": "3.8.5"
  }
 },
 "nbformat": 4,
 "nbformat_minor": 4
}
