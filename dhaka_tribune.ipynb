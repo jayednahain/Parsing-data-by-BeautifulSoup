{
 "cells": [
  {
   "cell_type": "code",
   "execution_count": 1,
   "metadata": {},
   "outputs": [
    {
     "name": "stdout",
     "output_type": "stream",
     "text": [
      "200  ||  https://www.dhakatribune.com/articles/latest-news/dhaka\n"
     ]
    }
   ],
   "source": [
    "import requests\n",
    "import pandas as pd\n",
    "from bs4 import BeautifulSoup as bs\n",
    "url = 'https://www.dhakatribune.com/articles/latest-news/dhaka'\n",
    "tribue_response = requests.get(url)\n",
    "\n",
    "raw_html = tribue_response.text\n",
    "soup_object = bs(raw_html,'html.parser',multi_valued_attributes=None)\n",
    "print(tribue_response.status_code,\" || \",tribue_response.url)"
   ]
  },
  {
   "cell_type": "code",
   "execution_count": 11,
   "metadata": {},
   "outputs": [
    {
     "name": "stdout",
     "output_type": "stream",
     "text": [
      "https://www.dhakatribune.com/articles/latest-news/dhaka || 200\n"
     ]
    }
   ],
   "source": [
    "\n",
    "#news test\n",
    "import requests\n",
    "from bs4 import BeautifulSoup as bs\n",
    "\n",
    "url = 'https://www.dhakatribune.com/articles/latest-news/dhaka'\n",
    "news_response = requests.get(url)\n",
    "html = news_response.text\n",
    "url = news_response.url\n",
    "status = news_response.status_code\n",
    "print(url ,\"||\", status)\n",
    "soup_div = bs(html,'html.parser')\n",
    "filter_by = {\n",
    "    'class':'news-title'\n",
    "}\n",
    "dates = []\n",
    "title =[]\n",
    "data = []\n",
    "for tag_Data in soup_div.findAll('div'):\n",
    "    data_sting=tag_Data.string\n",
    "    data.append(data_sting)\n",
    "\n",
    "    #print(len(data),\"||\",data)\n",
    "    \n",
    "        \n",
    "    \n"
   ]
  },
  {
   "cell_type": "code",
   "execution_count": 60,
   "metadata": {},
   "outputs": [
    {
     "name": "stdout",
     "output_type": "stream",
     "text": [
      "https://www.dhakatribune.com/articles/latest-news/dhaka || 200\n"
     ]
    }
   ],
   "source": [
    "\n",
    "#news test\n",
    "import requests\n",
    "from bs4 import BeautifulSoup as bs\n",
    "\n",
    "url = 'https://www.dhakatribune.com/articles/latest-news/dhaka'\n",
    "news_response = requests.get(url)\n",
    "html = news_response.text\n",
    "url = news_response.url\n",
    "status = news_response.status_code\n",
    "print(url ,\"||\", status)\n",
    "soup_div = bs(html,'html.parser')\n",
    "\n",
    "\n",
    "    \n",
    "\n",
    "    #print(len(data),\"||\",data)\n",
    "    \n",
    "        \n",
    "div_one=soup_div.findAll('div')\n",
    "\n"
   ]
  },
  {
   "cell_type": "code",
   "execution_count": 70,
   "metadata": {},
   "outputs": [],
   "source": [
    "div_one=soup_div.find('div',{'class':'listing-page-news listing-page-info'})\n",
    "\n",
    "div_two=div_one.find('div',{'class':'row'})\n",
    "div_three =div_two.find('div',{'class':'col-sm-4'})"
   ]
  },
  {
   "cell_type": "code",
   "execution_count": 81,
   "metadata": {},
   "outputs": [
    {
     "ename": "TypeError",
     "evalue": "slice indices must be integers or None or have an __index__ method",
     "output_type": "error",
     "traceback": [
      "\u001b[1;31m---------------------------------------------------------------------------\u001b[0m",
      "\u001b[1;31mTypeError\u001b[0m                                 Traceback (most recent call last)",
      "\u001b[1;32m<ipython-input-81-b2575ad83c84>\u001b[0m in \u001b[0;36m<module>\u001b[1;34m\u001b[0m\n\u001b[0;32m      1\u001b[0m \u001b[1;32mfor\u001b[0m \u001b[0mdiv_three\u001b[0m \u001b[1;32min\u001b[0m \u001b[0mdiv_one\u001b[0m\u001b[1;33m.\u001b[0m\u001b[0mfind\u001b[0m\u001b[1;33m(\u001b[0m\u001b[1;34m'div'\u001b[0m\u001b[1;33m,\u001b[0m\u001b[1;33m{\u001b[0m\u001b[1;34m'class'\u001b[0m\u001b[1;33m:\u001b[0m\u001b[1;34m'row'\u001b[0m\u001b[1;33m}\u001b[0m\u001b[1;33m)\u001b[0m\u001b[1;33m:\u001b[0m\u001b[1;33m\u001b[0m\u001b[1;33m\u001b[0m\u001b[0m\n\u001b[1;32m----> 2\u001b[1;33m     \u001b[1;32mfor\u001b[0m \u001b[0mcol_sm\u001b[0m \u001b[1;32min\u001b[0m \u001b[0mdiv_three\u001b[0m\u001b[1;33m.\u001b[0m\u001b[0mfind\u001b[0m\u001b[1;33m(\u001b[0m\u001b[1;34m'div'\u001b[0m\u001b[1;33m,\u001b[0m\u001b[1;33m{\u001b[0m\u001b[1;34m'class'\u001b[0m\u001b[1;33m:\u001b[0m\u001b[1;34m'col-sm-4'\u001b[0m\u001b[1;33m}\u001b[0m\u001b[1;33m)\u001b[0m\u001b[1;33m:\u001b[0m\u001b[1;33m\u001b[0m\u001b[1;33m\u001b[0m\u001b[0m\n\u001b[0m\u001b[0;32m      3\u001b[0m         \u001b[0mprint\u001b[0m\u001b[1;33m(\u001b[0m\u001b[0mcol_sm\u001b[0m\u001b[1;33m)\u001b[0m\u001b[1;33m\u001b[0m\u001b[1;33m\u001b[0m\u001b[0m\n\u001b[0;32m      4\u001b[0m     \u001b[1;31m#col_sm_4=div_three.find('div',{'class':'col-sm-4'})\u001b[0m\u001b[1;33m\u001b[0m\u001b[1;33m\u001b[0m\u001b[1;33m\u001b[0m\u001b[0m\n\u001b[0;32m      5\u001b[0m \u001b[1;33m\u001b[0m\u001b[0m\n",
      "\u001b[1;31mTypeError\u001b[0m: slice indices must be integers or None or have an __index__ method"
     ]
    }
   ],
   "source": [
    "for div_three in div_one.find('div',{'class':'row'}):\n",
    "    for col_sm in div_three.find('div',{'class':'col-sm-4'}):\n",
    "        print(col_sm)\n",
    "    #col_sm_4=div_three.find('div',{'class':'col-sm-4'})\n",
    "    \n",
    "    \n"
   ]
  },
  {
   "cell_type": "code",
   "execution_count": 63,
   "metadata": {},
   "outputs": [],
   "source": []
  },
  {
   "cell_type": "code",
   "execution_count": 2,
   "metadata": {},
   "outputs": [
    {
     "name": "stdout",
     "output_type": "stream",
     "text": [
      "https://www.dhakatribune.com/articles/latest-news/dhaka || 200\n"
     ]
    }
   ],
   "source": [
    "import requests\n",
    "from bs4 import BeautifulSoup as bs\n",
    "\n",
    "url = 'https://www.dhakatribune.com/articles/latest-news/dhaka'\n",
    "news_response = requests.get(url)\n",
    "html = news_response.text\n",
    "url = news_response.url\n",
    "status = news_response.status_code\n",
    "print(url ,\"||\", status)\n",
    "soup_div = bs(html,'html.parser')"
   ]
  },
  {
   "cell_type": "code",
   "execution_count": 11,
   "metadata": {},
   "outputs": [],
   "source": [
    "div_one=soup_div.find('div',{'class':'listing-page-news listing-page-info'})\n",
    "#div_two = div_one.find('div',{'class':'row'})"
   ]
  },
  {
   "cell_type": "code",
   "execution_count": 15,
   "metadata": {},
   "outputs": [],
   "source": [
    "title_list=[]\n",
    "title_link_list=[]\n",
    "body_list= []\n",
    "image_link = []\n",
    "div_one=soup_div.find('div',{'class':'listing-page-news listing-page-info'})\n",
    "for div_two in div_one.find('div'):\n",
    "        #div_three=div_two.find('div',{'class':'col-sm-4'})\n",
    "    h4_data=div_two.find('h4')\n",
    "    title_list.append(h4_data)\n",
    "    p_data =div_two.find('p')\n",
    "    body_list.append(p_data)\n",
    "    img_link = div_two.find('img')\n",
    "    image_link.append(img_link)\n",
    "    title_link = div_two.find('a')\n",
    "    title_link_list.append(title_link)\n",
    "        \n",
    "    \n",
    "    "
   ]
  },
  {
   "cell_type": "code",
   "execution_count": null,
   "metadata": {},
   "outputs": [],
   "source": [
    "#title_list  body_list image_link title_link_list"
   ]
  },
  {
   "cell_type": "code",
   "execution_count": 16,
   "metadata": {
    "scrolled": true
   },
   "outputs": [
    {
     "name": "stdout",
     "output_type": "stream",
     "text": [
      "29\n",
      "29\n"
     ]
    }
   ],
   "source": [
    "count = 0\n",
    "count_none = 0\n",
    "for value in title_link_list:\n",
    "    if value == -1 or value == None:\n",
    "        count = count+1\n",
    "        count_none= count_none+1\n",
    "print(count)\n",
    "print(count_none)"
   ]
  },
  {
   "cell_type": "code",
   "execution_count": null,
   "metadata": {},
   "outputs": [],
   "source": []
  },
  {
   "cell_type": "code",
   "execution_count": 43,
   "metadata": {},
   "outputs": [],
   "source": [
    "for x in title_list:\n",
    "        if x == -1 or x == None:\n",
    "            title_list.remove(x)"
   ]
  },
  {
   "cell_type": "code",
   "execution_count": 46,
   "metadata": {},
   "outputs": [],
   "source": [
    "for x in body_list:\n",
    "        if x == -1 or x == None:\n",
    "            body_list.remove(x)"
   ]
  },
  {
   "cell_type": "code",
   "execution_count": 21,
   "metadata": {},
   "outputs": [],
   "source": [
    "for x in image_link:\n",
    "        if x == -1 or x == None:\n",
    "            image_link.remove(x)"
   ]
  },
  {
   "cell_type": "code",
   "execution_count": 22,
   "metadata": {},
   "outputs": [],
   "source": [
    "for x in title_link_list:\n",
    "        if x == -1 or x == None:\n",
    "            title_link_list.remove(x)"
   ]
  },
  {
   "cell_type": "code",
   "execution_count": 49,
   "metadata": {
    "scrolled": true
   },
   "outputs": [],
   "source": [
    "title_list_frash =[]\n",
    "for data in title_list:\n",
    "    title_list_frash.append(data.string)"
   ]
  },
  {
   "cell_type": "code",
   "execution_count": 51,
   "metadata": {},
   "outputs": [],
   "source": [
    "body_list_frash = []\n",
    "for data in body_list:\n",
    "    body_list_frash.append(data.string)"
   ]
  },
  {
   "cell_type": "code",
   "execution_count": 54,
   "metadata": {
    "scrolled": true
   },
   "outputs": [
    {
     "name": "stdout",
     "output_type": "stream",
     "text": [
      "{0: '\\nBRRC to meet again on April 6 to discuss way forward\\n', 1: '\\nDaily Covid cases reached a new high of 6,469 on Thursday\\n', 2: '\\nThe decision came from the higher level of the government and left nothing for discussion, says member...\\n', 3: '\\nSome 122,0000 candidates will sit for the test for the 2020-2021 academic year across the country\\n', 4: '\\nThe commuters blocked the road and started their protests at around 9am since Thursday morning\\n', 5: '\\nTrains, launches also to carry 50% of their seating capacity from Thursday following govt directives...\\n', 6: '\\nPolice have recovered a foreign-made pistol and two bullets, four mobile phones and Tk35,000 in cash...\\n', 7: '\\nAnother has been injured and is undergoing treatment at Dhaka Medical College and Hospital\\n', 8: '\\nIt will take only 30 minutes to travel between Gabtoli and Balirpar\\n', 9: '\\nSome of the Hefazat-e-Islam leaders said they want to extend the strike till Monday\\n', 10: '\\nDepending on the availability of passengers, vehicles will also run on inter-district routes, said...\\n', 11: '\\nPublishers fear they will not be able to recoup investment, let alone make profit\\n', 12: '\\nTraffic restrictions, anti-Modi visit clash and Covid-19 crisis largely blamed\\n', 13: '\\nThe altercation took place in the Baitul Mukarram area in Dhaka on Friday afternoon\\n', 14: '\\nPublishers are targeting the Independence Day to boost up their sales\\n', 15: '\\nWitnesses say the two journalists, who are campus correspondents, were severely beaten by members of...\\n', 16: '\\nAt least 32 demonstrators have been held\\n', 17: '\\nUpon completion in 2022, both levels of the Hammam Khana, one of three primary structures at the Lalbagh...\\n', 18: '\\nAlong with existing infrastructures – such as flyovers, metro rail, expressway – unplanned...\\n', 19: '\\nConsumers living Dhaka West heave a sigh of relief as gas restored in parts\\n', 20: '\\nThe app will help police assist victims and also serve as a deterrent\\n'}\n"
     ]
    }
   ],
   "source": [
    "dicts_title = {}\n",
    "keys = range(len(body_list_frash))\n",
    "\n",
    "for i in keys:\n",
    "        dicts[i] = body_list_frash[i]\n",
    "print(dicts)"
   ]
  },
  {
   "cell_type": "code",
   "execution_count": 55,
   "metadata": {},
   "outputs": [
    {
     "name": "stdout",
     "output_type": "stream",
     "text": [
      "{0: '\\nBRRC to meet again on April 6 to discuss way forward\\n', 1: '\\nDaily Covid cases reached a new high of 6,469 on Thursday\\n', 2: '\\nThe decision came from the higher level of the government and left nothing for discussion, says member...\\n', 3: '\\nSome 122,0000 candidates will sit for the test for the 2020-2021 academic year across the country\\n', 4: '\\nThe commuters blocked the road and started their protests at around 9am since Thursday morning\\n', 5: '\\nTrains, launches also to carry 50% of their seating capacity from Thursday following govt directives...\\n', 6: '\\nPolice have recovered a foreign-made pistol and two bullets, four mobile phones and Tk35,000 in cash...\\n', 7: '\\nAnother has been injured and is undergoing treatment at Dhaka Medical College and Hospital\\n', 8: '\\nIt will take only 30 minutes to travel between Gabtoli and Balirpar\\n', 9: '\\nSome of the Hefazat-e-Islam leaders said they want to extend the strike till Monday\\n', 10: '\\nDepending on the availability of passengers, vehicles will also run on inter-district routes, said...\\n', 11: '\\nPublishers fear they will not be able to recoup investment, let alone make profit\\n', 12: '\\nTraffic restrictions, anti-Modi visit clash and Covid-19 crisis largely blamed\\n', 13: '\\nThe altercation took place in the Baitul Mukarram area in Dhaka on Friday afternoon\\n', 14: '\\nPublishers are targeting the Independence Day to boost up their sales\\n', 15: '\\nWitnesses say the two journalists, who are campus correspondents, were severely beaten by members of...\\n', 16: '\\nAt least 32 demonstrators have been held\\n', 17: '\\nUpon completion in 2022, both levels of the Hammam Khana, one of three primary structures at the Lalbagh...\\n', 18: '\\nAlong with existing infrastructures – such as flyovers, metro rail, expressway – unplanned...\\n', 19: '\\nConsumers living Dhaka West heave a sigh of relief as gas restored in parts\\n', 20: '\\nThe app will help police assist victims and also serve as a deterrent\\n'}\n"
     ]
    }
   ],
   "source": [
    "dicts_body = {}\n",
    "keys = range(len(body_list_frash))\n",
    "\n",
    "for i in keys:\n",
    "        dicts[i] = body_list_frash[i]\n",
    "print(dicts_body)"
   ]
  },
  {
   "cell_type": "code",
   "execution_count": 85,
   "metadata": {},
   "outputs": [],
   "source": [
    "#drop None values!\n",
    "#for title\n",
    "for x in title_list:\n",
    "        if x == None:\n",
    "            title_list.remove(x)\n",
    "#for body\n",
    "for x in body_list:\n",
    "        if x == None:\n",
    "            body_list.remove(x)\n",
    "#for image!\n",
    "for x in image_link:\n",
    "        if x == None:\n",
    "            image_link.remove(x)\n",
    "\n",
    "            "
   ]
  },
  {
   "cell_type": "code",
   "execution_count": 86,
   "metadata": {},
   "outputs": [
    {
     "data": {
      "text/plain": [
       "[<p>\n",
       " Daily Covid cases reached a new high of 6,469 on Thursday\n",
       " </p>,\n",
       " <p>\n",
       " The decision came from the higher level of the government and left nothing for discussion, says member...\n",
       " </p>,\n",
       " <p>\n",
       " Some 122,0000 candidates will sit for the test for the 2020-2021 academic year across the country\n",
       " </p>,\n",
       " <p>\n",
       " The commuters blocked the road and started their protests at around 9am since Thursday morning\n",
       " </p>,\n",
       " <p>\n",
       " Trains, launches also to carry 50% of their seating capacity from Thursday following govt directives...\n",
       " </p>,\n",
       " <p>\n",
       " Police have recovered a foreign-made pistol and two bullets, four mobile phones and Tk35,000 in cash...\n",
       " </p>,\n",
       " <p>\n",
       " The altercation took place in the Baitul Mukarram area in Dhaka on Friday afternoon\n",
       " </p>,\n",
       " -1,\n",
       " <p>\n",
       " Publishers are targeting the Independence Day to boost up their sales\n",
       " </p>,\n",
       " -1,\n",
       " <p>\n",
       " Witnesses say the two journalists, who are campus correspondents, were severely beaten by members of...\n",
       " </p>,\n",
       " -1,\n",
       " <p>\n",
       " At least 32 demonstrators have been held\n",
       " </p>,\n",
       " -1,\n",
       " <p>\n",
       " Upon completion in 2022, both levels of the Hammam Khana, one of three primary structures at the Lalbagh...\n",
       " </p>,\n",
       " -1,\n",
       " <p>\n",
       " Along with existing infrastructures – such as flyovers, metro rail, expressway – unplanned...\n",
       " </p>,\n",
       " -1,\n",
       " -1,\n",
       " -1,\n",
       " -1,\n",
       " -1,\n",
       " -1]"
      ]
     },
     "execution_count": 86,
     "metadata": {},
     "output_type": "execute_result"
    }
   ],
   "source": [
    "\n",
    "body_list"
   ]
  },
  {
   "cell_type": "code",
   "execution_count": 82,
   "metadata": {},
   "outputs": [
    {
     "data": {
      "text/plain": [
       "[<img alt=\"DSCC’s drive to close shops by 8\" class=\"lazy\" data-src=\"https://eng-media.dhakatribune.com/?width=238&amp;height=137&amp;cropratio=7:4&amp;quality=90&amp;image=/uploads/2020/12/abd80d9-6fe8-47bb-afe1-5a497aabc294-1-1609093779243.jpg\" src=\"/img/dt-placeholder.jpg\"/>,\n",
       " <img alt=\"Publishers angry with new Ekushey Book...\" class=\"lazy\" data-src=\"https://eng-media.dhakatribune.com/?width=238&amp;height=137&amp;cropratio=7:4&amp;quality=90&amp;image=/uploads/2021/03/cc340c7-6d01-4479-b61a-1245533b30e0-1616153888482.jpg\" src=\"/img/dt-placeholder.jpg\"/>,\n",
       " <img alt=\"DMP issues health, safety guidelines...\" class=\"lazy\" data-src=\"https://eng-media.dhakatribune.com/?width=238&amp;height=137&amp;cropratio=7:4&amp;quality=90&amp;image=/uploads/2020/07/pukllll-1594468484100.jpg\" src=\"/img/dt-placeholder.jpg\"/>,\n",
       " <img alt=\"Protests erupt as commuters fail to...\" class=\"lazy\" data-src=\"https://eng-media.dhakatribune.com/?width=238&amp;height=137&amp;cropratio=7:4&amp;quality=90&amp;image=/uploads/2021/04/commuters-1617269573638.jpg\" src=\"/img/dt-placeholder.jpg\"/>,\n",
       " <img alt=\"Commuters suffer as buses ply at half...\" class=\"lazy\" data-src=\"https://eng-media.dhakatribune.com/?width=238&amp;height=137&amp;cropratio=7:4&amp;quality=90&amp;image=/uploads/2021/03/unnamed-1617197725012.jpg\" src=\"/img/dt-placeholder.jpg\"/>,\n",
       " <img alt=\"2 ‘JMB militants’ arrested in\" class=\"lazy\" data-src=\"https://eng-media.dhakatribune.com/?width=238&amp;height=137&amp;cropratio=7:4&amp;quality=90&amp;image=/uploads/2018/05/arrest-handcuffs-1527614751819.jpg\" src=\"/img/dt-placeholder.jpg\"/>,\n",
       " <img alt=\"https://media-eng.dhakatribune.com/uploads/2021/03/dhaka-tribune-770-x-90-1617033686951.gif\" src=\"https://media-eng.dhakatribune.com/uploads/2021/03/dhaka-tribune-770-x-90-1617033686951.gif\"/>,\n",
       " <img alt=\"Teenage boy stabbed to death by rival...\" class=\"lazy\" data-src=\"https://eng-media.dhakatribune.com/?width=238&amp;height=137&amp;cropratio=7:4&amp;quality=90&amp;image=/uploads/2020/03/web-police-line-killed-dead-body-1553756770943-1585044474470.jpg\" src=\"/img/dt-placeholder.jpg\">\n",
       " </img>,\n",
       " <img alt=\"Southern metro rail to carry nearly...\" class=\"lazy\" data-src=\"https://eng-media.dhakatribune.com/?width=238&amp;height=137&amp;cropratio=7:4&amp;quality=90&amp;image=/uploads/2021/03/southern-metro-rail-line-1617011438620.jpg\" src=\"/img/dt-placeholder.jpg\"/>,\n",
       " <img alt=\"Hefazat hartal: No impact on people’s...\" class=\"lazy\" data-src=\"https://eng-media.dhakatribune.com/?width=238&amp;height=137&amp;cropratio=7:4&amp;quality=90&amp;image=/uploads/2021/03/transport-in-city-1-1-1616921990845.jpg\" src=\"/img/dt-placeholder.jpg\"/>,\n",
       " <img alt=\"Transport owners to run vehicles in...\" class=\"lazy\" data-src=\"https://eng-media.dhakatribune.com/?width=238&amp;height=137&amp;cropratio=7:4&amp;quality=90&amp;image=/uploads/2020/02/lead-1580560526553.jpg\" src=\"/img/dt-placeholder.jpg\"/>,\n",
       " <img alt=\"Book Fair: Children’s zone desolate...\" class=\"lazy\" data-src=\"https://eng-media.dhakatribune.com/?width=238&amp;height=137&amp;cropratio=7:4&amp;quality=90&amp;image=/uploads/2021/03/book-fair-feature-1616853750135.jpg\" src=\"/img/dt-placeholder.jpg\"/>,\n",
       " <img alt=\"Low turnout makes Independence Day dull...\" class=\"lazy\" data-src=\"https://eng-media.dhakatribune.com/?width=238&amp;height=137&amp;cropratio=7:4&amp;quality=90&amp;image=/uploads/2021/03/book-lovers-skimming-through-the-pages-before-buying-one-while-wearing-masks-to-maintain-health-safety-guidelines-at-the-month-long-amar-ekushey-book-fair-2021-yesterday-mehedi-hasan-1616603910495.jpeg\" src=\"/img/dt-placeholder.jpg\"/>,\n",
       " None,\n",
       " <img alt=\"Journos among 50 injured in clash between...\" class=\"lazy\" data-src=\"https://eng-media.dhakatribune.com/?width=238&amp;height=137&amp;cropratio=7:4&amp;quality=90&amp;image=/uploads/2021/03/clash-6-1616752484373.jpg\" src=\"/img/dt-placeholder.jpg\"/>,\n",
       " <img alt=\"Book fair to attract more bookworms...\" class=\"lazy\" data-src=\"https://eng-media.dhakatribune.com/?width=238&amp;height=137&amp;cropratio=7:4&amp;quality=90&amp;image=/uploads/2021/03/unnamed-1616700247299.jpg\" src=\"/img/dt-placeholder.jpg\"/>,\n",
       " <img alt=\"Journalists, leftist activists injured...\" class=\"lazy\" data-src=\"https://eng-media.dhakatribune.com/?width=238&amp;height=137&amp;cropratio=7:4&amp;quality=90&amp;image=/uploads/2021/03/unnamed-1616685420087.jpg\" src=\"/img/dt-placeholder.jpg\"/>,\n",
       " <img alt=\"Over 20 injured as police, protesters...\" class=\"lazy\" data-src=\"https://eng-media.dhakatribune.com/?width=238&amp;height=137&amp;cropratio=7:4&amp;quality=90&amp;image=/uploads/2021/03/shahbagh-clash-4-1616657787963.jpg\" src=\"/img/dt-placeholder.jpg\"/>,\n",
       " <img alt=\"Lalbagh Fort cultural preservation project...\" class=\"lazy\" data-src=\"https://eng-media.dhakatribune.com/?width=238&amp;height=137&amp;cropratio=7:4&amp;quality=90&amp;image=/uploads/2021/03/lalbag-fort-1616609322528.jpg\" src=\"/img/dt-placeholder.jpg\"/>,\n",
       " <img alt=\"Subway to be constructed despite...\" class=\"lazy\" data-src=\"https://eng-media.dhakatribune.com/?width=238&amp;height=137&amp;cropratio=7:4&amp;quality=90&amp;image=/uploads/2020/11/subway-1605372505003.jpg\" src=\"/img/dt-placeholder.jpg\"/>,\n",
       " None,\n",
       " <img alt=\"Gas pipeline repaired, supply to be...\" class=\"lazy\" data-src=\"https://eng-media.dhakatribune.com/?width=238&amp;height=137&amp;cropratio=7:4&amp;quality=90&amp;image=/uploads/2019/07/bigstock-160199012-1561984555333.jpg\" src=\"/img/dt-placeholder.jpg\"/>,\n",
       " <img alt=\"DMP to launch Eagle app to combat sexual...\" class=\"lazy\" data-src=\"https://eng-media.dhakatribune.com/?width=238&amp;height=137&amp;cropratio=7:4&amp;quality=90&amp;image=/uploads/2019/06/bigstock-sexual-harassment-and-assault-242610268-2-1561813796551.jpg\" src=\"/img/dt-placeholder.jpg\"/>,\n",
       " <img alt=\"Businessman gunned down in Dhaka, 6...\" class=\"lazy\" data-src=\"https://eng-media.dhakatribune.com/?width=238&amp;height=137&amp;cropratio=7:4&amp;quality=90&amp;image=/uploads/2019/03/web-police-line-killed-dead-body-1553756770943.jpg\" src=\"/img/dt-placeholder.jpg\"/>,\n",
       " None]"
      ]
     },
     "execution_count": 82,
     "metadata": {},
     "output_type": "execute_result"
    }
   ],
   "source": [
    "image_link"
   ]
  },
  {
   "cell_type": "code",
   "execution_count": 149,
   "metadata": {},
   "outputs": [
    {
     "ename": "AttributeError",
     "evalue": "'NoneType' object has no attribute 'stirng'",
     "output_type": "error",
     "traceback": [
      "\u001b[1;31m---------------------------------------------------------------------------\u001b[0m",
      "\u001b[1;31mAttributeError\u001b[0m                            Traceback (most recent call last)",
      "\u001b[1;32m<ipython-input-149-cb778b3ac99d>\u001b[0m in \u001b[0;36m<module>\u001b[1;34m\u001b[0m\n\u001b[0;32m      3\u001b[0m \u001b[0mnew_title_list\u001b[0m\u001b[1;33m=\u001b[0m \u001b[1;33m[\u001b[0m\u001b[1;33m]\u001b[0m\u001b[1;33m\u001b[0m\u001b[1;33m\u001b[0m\u001b[0m\n\u001b[0;32m      4\u001b[0m \u001b[1;32mfor\u001b[0m \u001b[0mvalue\u001b[0m \u001b[1;32min\u001b[0m \u001b[0mtitle_list\u001b[0m\u001b[1;33m:\u001b[0m\u001b[1;33m\u001b[0m\u001b[1;33m\u001b[0m\u001b[0m\n\u001b[1;32m----> 5\u001b[1;33m     \u001b[0mvalue\u001b[0m\u001b[1;33m.\u001b[0m\u001b[0mstirng\u001b[0m\u001b[1;33m\u001b[0m\u001b[1;33m\u001b[0m\u001b[0m\n\u001b[0m\u001b[0;32m      6\u001b[0m \u001b[1;33m\u001b[0m\u001b[0m\n",
      "\u001b[1;31mAttributeError\u001b[0m: 'NoneType' object has no attribute 'stirng'"
     ]
    }
   ],
   "source": [
    "#for x in title_list:\n",
    "    #title_list.replace('<h4 class=\"news-title\">','')\n",
    "new_title_list= []\n",
    "for value in title_list:\n",
    "    value.stirng\n",
    "    "
   ]
  },
  {
   "cell_type": "code",
   "execution_count": 165,
   "metadata": {},
   "outputs": [
    {
     "name": "stdout",
     "output_type": "stream",
     "text": [
      "<class 'bs4.element.NavigableString'>\n",
      "<class 'bs4.element.NavigableString'>\n",
      "<class 'bs4.element.NavigableString'>\n",
      "<class 'bs4.element.NavigableString'>\n",
      "<class 'bs4.element.NavigableString'>\n",
      "<class 'bs4.element.NavigableString'>\n"
     ]
    },
    {
     "ename": "AttributeError",
     "evalue": "'NoneType' object has no attribute 'string'",
     "output_type": "error",
     "traceback": [
      "\u001b[1;31m---------------------------------------------------------------------------\u001b[0m",
      "\u001b[1;31mAttributeError\u001b[0m                            Traceback (most recent call last)",
      "\u001b[1;32m<ipython-input-165-0f4c301bca68>\u001b[0m in \u001b[0;36m<module>\u001b[1;34m\u001b[0m\n\u001b[0;32m      2\u001b[0m \u001b[1;32mfor\u001b[0m \u001b[0mi\u001b[0m \u001b[1;32min\u001b[0m \u001b[0mrange\u001b[0m\u001b[1;33m(\u001b[0m\u001b[0mlen\u001b[0m\u001b[1;33m(\u001b[0m\u001b[0mtitle_list\u001b[0m\u001b[1;33m)\u001b[0m\u001b[1;33m)\u001b[0m\u001b[1;33m:\u001b[0m\u001b[1;33m\u001b[0m\u001b[1;33m\u001b[0m\u001b[0m\n\u001b[0;32m      3\u001b[0m     \u001b[0mx\u001b[0m\u001b[1;33m=\u001b[0m\u001b[0mtitle_list\u001b[0m\u001b[1;33m[\u001b[0m\u001b[0mi\u001b[0m\u001b[1;33m]\u001b[0m\u001b[1;33m\u001b[0m\u001b[1;33m\u001b[0m\u001b[0m\n\u001b[1;32m----> 4\u001b[1;33m     \u001b[0mprint\u001b[0m\u001b[1;33m(\u001b[0m\u001b[0mtype\u001b[0m\u001b[1;33m(\u001b[0m\u001b[0mx\u001b[0m\u001b[1;33m.\u001b[0m\u001b[0mstring\u001b[0m\u001b[1;33m)\u001b[0m\u001b[1;33m)\u001b[0m\u001b[1;33m\u001b[0m\u001b[1;33m\u001b[0m\u001b[0m\n\u001b[0m",
      "\u001b[1;31mAttributeError\u001b[0m: 'NoneType' object has no attribute 'string'"
     ]
    }
   ],
   "source": [
    "new_list = []\n",
    "for i in range(len(title_list)):\n",
    "    x=title_list[i]\n",
    "    print(type(x.string))"
   ]
  },
  {
   "cell_type": "code",
   "execution_count": 166,
   "metadata": {},
   "outputs": [
    {
     "data": {
      "text/plain": [
       "[<h4 class=\"news-title\">\n",
       " New fair timings irk publishers\n",
       " </h4>,\n",
       " <h4 class=\"news-title\">\n",
       " DMP issues guidelines for medical entry...\n",
       " </h4>,\n",
       " <h4 class=\"news-title\">\n",
       " Protests erupt as commuters fail to...\n",
       " </h4>,\n",
       " <h4 class=\"news-title\">\n",
       " Commuters suffer as buses ply at half...\n",
       " </h4>,\n",
       " <h4 class=\"news-title\">\n",
       " 2 ‘JMB militants’ arrested in\n",
       " </h4>,\n",
       " <h4 class=\"news-title\">\n",
       " Teen murdered by rival gang in...\n",
       " </h4>,\n",
       " None,\n",
       " <h4 class=\"news-title\">\n",
       " Southern metro rail to carry nearly...\n",
       " </h4>,\n",
       " <h4 class=\"news-title\">\n",
       " Hefazat hartal: No impact on people’s...\n",
       " </h4>,\n",
       " <h4 class=\"news-title\">\n",
       " Transport owners to run vehicles in...\n",
       " </h4>,\n",
       " <h4 class=\"news-title\">\n",
       " Book Fair: Children’s zone desolate...\n",
       " </h4>,\n",
       " <h4 class=\"news-title\">\n",
       " Low turnout makes Independence Day dull...\n",
       " </h4>,\n",
       " <h4 class=\"news-title\">\n",
       " Journos among 50 injured in Baitul Mukarram...\n",
       " </h4>,\n",
       " None,\n",
       " <h4 class=\"news-title\">\n",
       " Book fair to see more visitors on Independence...\n",
       " </h4>,\n",
       " <h4 class=\"news-title\">\n",
       " Journos, leftist activists injured in...\n",
       " </h4>,\n",
       " <h4 class=\"news-title\">\n",
       " Police, protesters clash over Modi’s...\n",
       "  </h4>,\n",
       " <h4 class=\"news-title\">\n",
       " Lalbagh Fort cultural preservation project...\n",
       " </h4>,\n",
       " <h4 class=\"news-title\">\n",
       " Subway to be constructed despite...\n",
       " </h4>,\n",
       " <h4 class=\"news-title\">\n",
       " Gas pipeline repaired, supply to be...\n",
       " </h4>,\n",
       " None,\n",
       " <h4 class=\"news-title\">\n",
       " DMP to launch Eagle app to combat sexual...\n",
       " </h4>,\n",
       " <h4 class=\"news-title\">\n",
       " Man gunned down in Dhaka, 6...\n",
       " </h4>,\n",
       " <h4 class=\"news-title\">\n",
       " Is a subway system right for\n",
       " </h4>,\n",
       " None]"
      ]
     },
     "execution_count": 166,
     "metadata": {},
     "output_type": "execute_result"
    }
   ],
   "source": [
    "title_list"
   ]
  },
  {
   "cell_type": "code",
   "execution_count": 167,
   "metadata": {},
   "outputs": [],
   "source": [
    "for x in title_list:\n",
    "        if x == None:\n",
    "            title_list.remove(x)"
   ]
  },
  {
   "cell_type": "code",
   "execution_count": 169,
   "metadata": {},
   "outputs": [],
   "source": [
    "new_list=[]\n",
    "for value in title_list:\n",
    "    v=value.string\n",
    "    new_list.append(v)\n",
    "    \n",
    "    "
   ]
  },
  {
   "cell_type": "code",
   "execution_count": 170,
   "metadata": {},
   "outputs": [
    {
     "data": {
      "text/plain": [
       "['\\nNew fair timings irk publishers\\n',\n",
       " '\\nDMP issues guidelines for medical entry...\\n',\n",
       " '\\nProtests erupt as commuters fail to...\\n',\n",
       " '\\nCommuters suffer as buses ply at half...\\n',\n",
       " '\\n2 ‘JMB militants’ arrested in\\n',\n",
       " '\\nTeen murdered by rival gang in...\\n',\n",
       " '\\nSouthern metro rail to carry nearly...\\n',\n",
       " '\\nHefazat hartal: No impact on people’s...\\n',\n",
       " '\\nTransport owners to run vehicles in...\\n',\n",
       " '\\nBook Fair: Children’s zone desolate...\\n',\n",
       " '\\nLow turnout makes Independence Day dull...\\n',\n",
       " '\\nJournos among 50 injured in Baitul Mukarram...\\n',\n",
       " '\\nBook fair to see more visitors on Independence...\\n',\n",
       " '\\nJournos, leftist activists injured in...\\n',\n",
       " '\\nPolice, protesters clash over Modi’s...\\n ',\n",
       " '\\nLalbagh Fort cultural preservation project...\\n',\n",
       " '\\nSubway to be constructed despite...\\n',\n",
       " '\\nGas pipeline repaired, supply to be...\\n',\n",
       " '\\nDMP to launch Eagle app to combat sexual...\\n',\n",
       " '\\nMan gunned down in Dhaka, 6...\\n',\n",
       " '\\nIs a subway system right for\\n']"
      ]
     },
     "execution_count": 170,
     "metadata": {},
     "output_type": "execute_result"
    }
   ],
   "source": [
    "new_list"
   ]
  },
  {
   "cell_type": "code",
   "execution_count": null,
   "metadata": {},
   "outputs": [],
   "source": []
  }
 ],
 "metadata": {
  "kernelspec": {
   "display_name": "Python 3",
   "language": "python",
   "name": "python3"
  },
  "language_info": {
   "codemirror_mode": {
    "name": "ipython",
    "version": 3
   },
   "file_extension": ".py",
   "mimetype": "text/x-python",
   "name": "python",
   "nbconvert_exporter": "python",
   "pygments_lexer": "ipython3",
   "version": "3.8.5"
  }
 },
 "nbformat": 4,
 "nbformat_minor": 4
}
