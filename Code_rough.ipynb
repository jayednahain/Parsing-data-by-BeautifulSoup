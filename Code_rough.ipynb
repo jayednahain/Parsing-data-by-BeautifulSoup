{
 "cells": [
  {
   "cell_type": "code",
   "execution_count": 1,
   "metadata": {},
   "outputs": [],
   "source": []
  },
  {
   "cell_type": "code",
   "execution_count": 20,
   "metadata": {},
   "outputs": [
    {
     "name": "stdout",
     "output_type": "stream",
     "text": [
      "https://www.dhakatribune.com/articles/latest-news/dhaka || 200\n",
      "7\n",
      "11\n",
      "8\n",
      "6\n",
      "5\n",
      "15\n",
      "11\n",
      "10\n",
      "14\n",
      "10\n",
      "105\n",
      "105\n",
      "92\n",
      "69\n",
      "85\n",
      "103\n",
      "83\n",
      "80\n",
      "85\n",
      "71\n",
      "105\n",
      "42\n",
      "109\n",
      "95\n",
      "77\n",
      "71\n",
      "48\n",
      "98\n",
      "102\n",
      "106\n",
      "62\n",
      "7\n",
      "11\n",
      "8\n",
      "6\n",
      "5\n",
      "15\n",
      "11\n",
      "10\n",
      "14\n",
      "10\n",
      "61\n",
      "50\n",
      "26\n"
     ]
    }
   ],
   "source": [
    "\n",
    "#news test\n",
    "import requests\n",
    "from bs4 import BeautifulSoup as bs\n",
    "\n",
    "url = 'https://www.dhakatribune.com/articles/latest-news/dhaka'\n",
    "news_response = requests.get(url)\n",
    "html = news_response.text\n",
    "url = news_response.url\n",
    "status = news_response.status_code\n",
    "print(url ,\"||\", status)\n",
    "soup_div = bs(html,'html.parser')\n",
    "filter_by = {\n",
    "    'class':'listing-time'\n",
    "}\n",
    "#values = []\n",
    "new\n",
    "for tag_Data in soup_div.findAll('p'):\n",
    "    data=tag_Data.string\n",
    "    print(len(data))\n",
    "    #data=tag_Data.string\n",
    "    #values.append(data.replace('“','').replace('”',''))\n",
    "#print(values)\n"
   ]
  },
  {
   "cell_type": "code",
   "execution_count": null,
   "metadata": {},
   "outputs": [],
   "source": []
  },
  {
   "cell_type": "code",
   "execution_count": 2,
   "metadata": {},
   "outputs": [
    {
     "name": "stdout",
     "output_type": "stream",
     "text": [
      "<title>Quotes to Scrape</title>\n"
     ]
    }
   ],
   "source": [
    "import requests\n",
    "from bs4 import BeautifulSoup as bs\n",
    "\n",
    "url = 'https://quotes.toscrape.com'\n",
    "news_response = requests.get(url)\n",
    "html = news_response.text\n",
    "\n",
    "soup_div = bs(html,'html.parser')\n",
    "print(soup_div.title)"
   ]
  },
  {
   "cell_type": "code",
   "execution_count": 3,
   "metadata": {},
   "outputs": [
    {
     "name": "stdout",
     "output_type": "stream",
     "text": [
      "<span class=\"text\" itemprop=\"text\">“The world as we have created it is a process of our thinking. It cannot be changed without changing our thinking.”</span>\n"
     ]
    }
   ],
   "source": [
    "#printing only friest span\n",
    "print(soup_div.span)"
   ]
  },
  {
   "cell_type": "code",
   "execution_count": 5,
   "metadata": {},
   "outputs": [
    {
     "name": "stdout",
     "output_type": "stream",
     "text": [
      "Quotes to Scrape\n",
      "-------------------\n",
      "“The world as we have created it is a process of our thinking. It cannot be changed without changing our thinking.”\n"
     ]
    }
   ],
   "source": [
    "#print without html tags\n",
    "print(soup_div.title.string)\n",
    "print('-------------------')\n",
    "print(soup_div.span.string)"
   ]
  },
  {
   "cell_type": "code",
   "execution_count": 9,
   "metadata": {},
   "outputs": [
    {
     "name": "stdout",
     "output_type": "stream",
     "text": [
      "<head>\n",
      "<meta charset=\"utf-8\"/>\n",
      "<title>Quotes to Scrape</title>\n",
      "<link href=\"/static/bootstrap.min.css\" rel=\"stylesheet\"/>\n",
      "<link href=\"/static/main.css\" rel=\"stylesheet\"/>\n",
      "</head>\n"
     ]
    }
   ],
   "source": [
    "#find div parent  ! \n",
    "print(soup_div.title.parent)\n",
    "#it will show including other divs"
   ]
  },
  {
   "cell_type": "code",
   "execution_count": 10,
   "metadata": {},
   "outputs": [
    {
     "name": "stdout",
     "output_type": "stream",
     "text": [
      "head\n"
     ]
    }
   ],
   "source": [
    "#only showing the parent name\n",
    "print(soup_div.title.parent.name)"
   ]
  },
  {
   "cell_type": "code",
   "execution_count": 11,
   "metadata": {},
   "outputs": [],
   "source": [
    "#find all tags !"
   ]
  },
  {
   "cell_type": "code",
   "execution_count": null,
   "metadata": {},
   "outputs": [],
   "source": [
    "print(soup_div.findAll('span')) # find tag which contain span"
   ]
  },
  {
   "cell_type": "code",
   "execution_count": null,
   "metadata": {},
   "outputs": [],
   "source": [
    "span_divs = soup_div.findAll('span')"
   ]
  },
  {
   "cell_type": "code",
   "execution_count": null,
   "metadata": {},
   "outputs": [],
   "source": [
    "print(span_divs)"
   ]
  },
  {
   "cell_type": "code",
   "execution_count": 24,
   "metadata": {},
   "outputs": [],
   "source": [
    "count = 1\n",
    "for data in span_divs:\n",
    "    #print(span_divs)\n",
    "    #print(count)\n",
    "    count= count+1\n",
    "#print(count)"
   ]
  },
  {
   "cell_type": "code",
   "execution_count": 25,
   "metadata": {},
   "outputs": [],
   "source": [
    "#find ta which contain \"a\" <a> tag"
   ]
  },
  {
   "cell_type": "code",
   "execution_count": 28,
   "metadata": {},
   "outputs": [],
   "source": [
    "for tags in soup_div.findAll('a'):\n",
    "    pass\n",
    "    #print(tags)"
   ]
  },
  {
   "cell_type": "code",
   "execution_count": 29,
   "metadata": {},
   "outputs": [],
   "source": [
    "#find spacefic data from same tag!\n",
    "#find all the span, which have class attribute! and those class values is \"text\""
   ]
  },
  {
   "cell_type": "code",
   "execution_count": 6,
   "metadata": {},
   "outputs": [],
   "source": [
    "\n",
    "#for values in dir(tag):\n",
    "    #print(values)"
   ]
  },
  {
   "cell_type": "code",
   "execution_count": null,
   "metadata": {},
   "outputs": [],
   "source": []
  },
  {
   "cell_type": "code",
   "execution_count": null,
   "metadata": {},
   "outputs": [],
   "source": []
  },
  {
   "cell_type": "code",
   "execution_count": null,
   "metadata": {},
   "outputs": [],
   "source": []
  },
  {
   "cell_type": "code",
   "execution_count": 3,
   "metadata": {},
   "outputs": [
    {
     "name": "stdout",
     "output_type": "stream",
     "text": [
      "<title>Quotes to Scrape</title>\n"
     ]
    }
   ],
   "source": [
    "import requests\n",
    "from bs4 import BeautifulSoup as bs\n",
    "\n",
    "url = 'https://quotes.toscrape.com'\n",
    "news_response = requests.get(url)\n",
    "html = news_response.text\n",
    "\n",
    "soup_div = bs(html,'html.parser')\n",
    "print(soup_div.title)"
   ]
  },
  {
   "cell_type": "code",
   "execution_count": 4,
   "metadata": {},
   "outputs": [
    {
     "name": "stdout",
     "output_type": "stream",
     "text": [
      "['The world as we have created it is a process of our thinking. It cannot be changed without changing our thinking.', 'It is our choices, Harry, that show what we truly are, far more than our abilities.', 'There are only two ways to live your life. One is as though nothing is a miracle. The other is as though everything is a miracle.', 'The person, be it gentleman or lady, who has not pleasure in a good novel, must be intolerably stupid.', \"Imperfection is beauty, madness is genius and it's better to be absolutely ridiculous than absolutely boring.\", 'Try not to become a man of success. Rather become a man of value.', 'It is better to be hated for what you are than to be loved for what you are not.', \"I have not failed. I've just found 10,000 ways that won't work.\", \"A woman is like a tea bag; you never know how strong it is until it's in hot water.\", 'A day without sunshine is like, you know, night.']\n"
     ]
    }
   ],
   "source": [
    "filter_by = {\n",
    "    'class':'text'\n",
    "}\n",
    "values = []\n",
    "for tag_Data in soup_div.findAll('span',filter_by):\n",
    "    data=tag_Data.string\n",
    "    values.append(data.replace('“','').replace('”',''))\n",
    "print(values)\n",
    "    "
   ]
  },
  {
   "cell_type": "code",
   "execution_count": 5,
   "metadata": {},
   "outputs": [
    {
     "name": "stdout",
     "output_type": "stream",
     "text": [
      "{0: 'The world as we have created it is a process of our thinking. It cannot be changed without changing our thinking.', 1: 'It is our choices, Harry, that show what we truly are, far more than our abilities.', 2: 'There are only two ways to live your life. One is as though nothing is a miracle. The other is as though everything is a miracle.', 3: 'The person, be it gentleman or lady, who has not pleasure in a good novel, must be intolerably stupid.', 4: \"Imperfection is beauty, madness is genius and it's better to be absolutely ridiculous than absolutely boring.\", 5: 'Try not to become a man of success. Rather become a man of value.', 6: 'It is better to be hated for what you are than to be loved for what you are not.', 7: \"I have not failed. I've just found 10,000 ways that won't work.\", 8: \"A woman is like a tea bag; you never know how strong it is until it's in hot water.\", 9: 'A day without sunshine is like, you know, night.'}\n"
     ]
    }
   ],
   "source": [
    "\n",
    "\n",
    "dicts = {}\n",
    "keys = range(len(values))\n",
    "\n",
    "for i in keys:\n",
    "        dicts[i] = values[i]\n",
    "print(dicts)"
   ]
  },
  {
   "cell_type": "code",
   "execution_count": 11,
   "metadata": {},
   "outputs": [
    {
     "name": "stdout",
     "output_type": "stream",
     "text": [
      "The world as we have created it is a process of our thinking. It cannot be changed without changing our thinking.\n",
      "It is our choices, Harry, that show what we truly are, far more than our abilities.\n",
      "There are only two ways to live your life. One is as though nothing is a miracle. The other is as though everything is a miracle.\n",
      "The person, be it gentleman or lady, who has not pleasure in a good novel, must be intolerably stupid.\n",
      "Imperfection is beauty, madness is genius and it's better to be absolutely ridiculous than absolutely boring.\n",
      "Try not to become a man of success. Rather become a man of value.\n",
      "It is better to be hated for what you are than to be loved for what you are not.\n",
      "I have not failed. I've just found 10,000 ways that won't work.\n",
      "A woman is like a tea bag; you never know how strong it is until it's in hot water.\n",
      "A day without sunshine is like, you know, night.\n"
     ]
    }
   ],
   "source": [
    "import requests\n",
    "from bs4 import BeautifulSoup as bs\n",
    "\n",
    "url = 'https://quotes.toscrape.com'\n",
    "news_response = requests.get(url)\n",
    "html = news_response.text\n",
    "soup_div = bs(html,'html.parser')\n",
    "filter_by = {\n",
    "    'class':'text'\n",
    "}\n",
    "\n",
    "with open('soup_export_quats.txt','w') as f:\n",
    "    for tag_Data in soup_div.findAll('span',filter_by):\n",
    "        data=tag_Data.string\n",
    "        value =data.replace('“','').replace('”','')\n",
    "        print(value)\n",
    "        f.write(value)\n",
    "        f.write('\\n')\n"
   ]
  },
  {
   "cell_type": "code",
   "execution_count": 12,
   "metadata": {},
   "outputs": [
    {
     "name": "stdout",
     "output_type": "stream",
     "text": [
      "Albert Einstein\n",
      "J.K. Rowling\n",
      "Albert Einstein\n",
      "Jane Austen\n",
      "Marilyn Monroe\n",
      "Albert Einstein\n",
      "André Gide\n",
      "Thomas A. Edison\n",
      "Eleanor Roosevelt\n",
      "Steve Martin\n"
     ]
    }
   ],
   "source": [
    "import requests\n",
    "from bs4 import BeautifulSoup as bs\n",
    "\n",
    "url = 'https://quotes.toscrape.com'\n",
    "news_response = requests.get(url)\n",
    "html = news_response.text\n",
    "soup_div = bs(html,'html.parser')\n",
    "filter_by = {\n",
    "    'class':'author'\n",
    "}\n",
    "\n",
    "with open('author_names.csv','w') as f:\n",
    "    for tag_Data in soup_div.findAll('small',filter_by):\n",
    "        data=tag_Data.string\n",
    "        value =data.replace('“','').replace('”','')\n",
    "        print(value)\n",
    "        f.write(value)\n",
    "        f.write('\\n')\n"
   ]
  },
  {
   "cell_type": "code",
   "execution_count": 1,
   "metadata": {},
   "outputs": [],
   "source": [
    "#multi valued atribute"
   ]
  },
  {
   "cell_type": "code",
   "execution_count": 9,
   "metadata": {},
   "outputs": [],
   "source": [
    "from bs4 import BeautifulSoup as bs\n",
    "html = '<h1 id=\"xyz\" class=\"abc 123\">Hhelllow world</h1><span></span><span></span>'"
   ]
  },
  {
   "cell_type": "code",
   "execution_count": 10,
   "metadata": {},
   "outputs": [
    {
     "data": {
      "text/plain": [
       "'<h1 id=\"xyz\" class=\"abc 123\">Hhelllow world</h1><span></span><span></span>'"
      ]
     },
     "execution_count": 10,
     "metadata": {},
     "output_type": "execute_result"
    }
   ],
   "source": [
    "html"
   ]
  },
  {
   "cell_type": "code",
   "execution_count": 12,
   "metadata": {},
   "outputs": [
    {
     "name": "stdout",
     "output_type": "stream",
     "text": [
      "['abc', '123']\n"
     ]
    }
   ],
   "source": [
    "soup_object = bs(html,'html.parser')\n",
    "tag = soup_object.h1\n",
    "#print(tag.string)\n",
    "print(tag['class'])\n",
    "#this will return multi valued atribute\n",
    "#so its returning a list !"
   ]
  },
  {
   "cell_type": "code",
   "execution_count": 13,
   "metadata": {},
   "outputs": [
    {
     "name": "stdout",
     "output_type": "stream",
     "text": [
      "abc 123\n"
     ]
    }
   ],
   "source": [
    "soup_object = bs(html,'html.parser',multi_valued_attributes=None)\n",
    "tag = soup_object.h1\n",
    "#print(tag.string)\n",
    "print(tag['class'])\n",
    "#it returning single value for using multi_valued_attributes=None"
   ]
  },
  {
   "cell_type": "code",
   "execution_count": 15,
   "metadata": {},
   "outputs": [
    {
     "name": "stdout",
     "output_type": "stream",
     "text": [
      "False\n"
     ]
    }
   ],
   "source": [
    "soup_object = bs(html,'html.parser')\n",
    "tag = soup_object.h1\n"
   ]
  },
  {
   "cell_type": "code",
   "execution_count": 19,
   "metadata": {},
   "outputs": [
    {
     "name": "stdout",
     "output_type": "stream",
     "text": [
      "False\n",
      "False\n"
     ]
    }
   ],
   "source": [
    "for value in tag['class']:\n",
    "    if value == \"\"\n",
    "        print(True)\n",
    "    else:\n",
    "        print(False)"
   ]
  },
  {
   "cell_type": "code",
   "execution_count": null,
   "metadata": {},
   "outputs": [],
   "source": []
  }
 ],
 "metadata": {
  "kernelspec": {
   "display_name": "Python 3",
   "language": "python",
   "name": "python3"
  },
  "language_info": {
   "codemirror_mode": {
    "name": "ipython",
    "version": 3
   },
   "file_extension": ".py",
   "mimetype": "text/x-python",
   "name": "python",
   "nbconvert_exporter": "python",
   "pygments_lexer": "ipython3",
   "version": "3.8.5"
  }
 },
 "nbformat": 4,
 "nbformat_minor": 4
}
